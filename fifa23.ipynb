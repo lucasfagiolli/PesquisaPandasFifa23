import pandas as pd 

df = pd.read_csv("Fifa_23_Players_Data.csv") # importando arquivos
df.head(10) 

df["Nationality"].value_counts()

# Filtrando os 5 primeiros Países
df["Nationality"].value_counts().head(5) 

data = [('England', 1494), ('Germany', 1188), ('Spain', 1026), ('France', 922), ('Argentina', 871)]

hier_index2 = [1,2,3,4,5]

df = pd.DataFrame(data, index=hier_index2, columns=['País', 'Qtd. de Repetições'])
df
